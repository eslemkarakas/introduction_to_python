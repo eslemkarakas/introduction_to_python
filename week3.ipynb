{
 "cells": [
  {
   "cell_type": "markdown",
   "metadata": {},
   "source": [
    "<h4><center><font color='Blue'>Introduction to Python - Week:3</font></center></h4>\n",
    "<h4><center><font color='Blue'>Instructor: Eslem Karakaş</font></center></h4>"
   ]
  },
  {
   "cell_type": "markdown",
   "metadata": {},
   "source": [
    "<h4><font color='Blue'>Learning Objectives</font></h4>"
   ]
  },
  {
   "cell_type": "markdown",
   "metadata": {},
   "source": [
    ">How to get computers to do repetitive tasks"
   ]
  },
  {
   "cell_type": "markdown",
   "metadata": {},
   "source": [
    "<h4><font color='Blue'>Techniques for Automating Repetitive Tasks</font></h4>"
   ]
  },
  {
   "cell_type": "markdown",
   "metadata": {},
   "source": [
    "> - while loops\n",
    "> - for loops"
   ]
  },
  {
   "cell_type": "markdown",
   "metadata": {},
   "source": [
    "<h4><font color='Red'>A. while</font></h4>\n",
    "\n",
    ">Instruct your computer to continuously execute your code based on the value of condition."
   ]
  },
  {
   "cell_type": "code",
   "execution_count": 1,
   "metadata": {},
   "outputs": [
    {
     "name": "stdout",
     "output_type": "stream",
     "text": [
      "a:  0\n",
      "a:  1\n",
      "a:  2\n",
      "a:  3\n",
      "a:  4\n",
      "Last value of a:  5\n"
     ]
    }
   ],
   "source": [
    "a = 0 # initializing\n",
    "while a < 5:\n",
    "    print(\"a: \", a)\n",
    "    a = a + 1\n",
    "print(\"Last value of a: \", a)"
   ]
  },
  {
   "cell_type": "code",
   "execution_count": 2,
   "metadata": {},
   "outputs": [
    {
     "name": "stdout",
     "output_type": "stream",
     "text": [
      "122222\n",
      "122222\n",
      "12344444\n"
     ]
    }
   ],
   "source": [
    "def genmet(a,b):\n",
    "    temp = 1\n",
    "    genmet1 = ''\n",
    "    while temp < a:\n",
    "        genmet1 += str(temp)\n",
    "        temp = temp + 1\n",
    "    \n",
    "    temp = 1\n",
    "    genmet2 = ''\n",
    "    while temp < b:\n",
    "        genmet2 += str(temp)\n",
    "        temp = temp + 1\n",
    "    \n",
    "    return abs(int(genmet1) - int(genmet2))\n",
    "\n",
    "print(genmet(5,7))\n",
    "print(genmet(7,5))\n",
    "print(genmet(9,5))"
   ]
  },
  {
   "cell_type": "markdown",
   "metadata": {},
   "source": [
    "<h4><font color='Gray'>Common Pitfalls in While Loops</font></h4>"
   ]
  },
  {
   "cell_type": "markdown",
   "metadata": {},
   "source": [
    "<h4><font color='Gray'>1. Forgetting to initialize variables with the right value</font></h4>"
   ]
  },
  {
   "cell_type": "code",
   "execution_count": 3,
   "metadata": {},
   "outputs": [
    {
     "ename": "NameError",
     "evalue": "name 'value' is not defined",
     "output_type": "error",
     "traceback": [
      "\u001b[1;31m---------------------------------------------------------------------------\u001b[0m",
      "\u001b[1;31mNameError\u001b[0m                                 Traceback (most recent call last)",
      "\u001b[1;32m<ipython-input-3-c81431067b18>\u001b[0m in \u001b[0;36m<module>\u001b[1;34m\u001b[0m\n\u001b[1;32m----> 1\u001b[1;33m \u001b[1;32mwhile\u001b[0m \u001b[0mvalue\u001b[0m \u001b[1;33m<\u001b[0m \u001b[1;36m10\u001b[0m\u001b[1;33m:\u001b[0m\u001b[1;33m\u001b[0m\u001b[1;33m\u001b[0m\u001b[0m\n\u001b[0m\u001b[0;32m      2\u001b[0m     \u001b[0mprint\u001b[0m\u001b[1;33m(\u001b[0m\u001b[1;34m'Google'\u001b[0m\u001b[1;33m)\u001b[0m\u001b[1;33m\u001b[0m\u001b[1;33m\u001b[0m\u001b[0m\n\u001b[0;32m      3\u001b[0m     \u001b[0mvalue\u001b[0m \u001b[1;33m+=\u001b[0m \u001b[1;36m1\u001b[0m\u001b[1;33m\u001b[0m\u001b[1;33m\u001b[0m\u001b[0m\n",
      "\u001b[1;31mNameError\u001b[0m: name 'value' is not defined"
     ]
    }
   ],
   "source": [
    "while value < 10:\n",
    "    print('Google')\n",
    "    value += 1"
   ]
  },
  {
   "cell_type": "code",
   "execution_count": 4,
   "metadata": {},
   "outputs": [
    {
     "name": "stdout",
     "output_type": "stream",
     "text": [
      "Google\n",
      "Google\n",
      "Google\n",
      "Google\n",
      "Google\n",
      "Google\n",
      "Google\n",
      "Google\n",
      "Google\n",
      "Google\n"
     ]
    }
   ],
   "source": [
    "value = 0\n",
    "while value < 10:\n",
    "    print('Google')\n",
    "    value += 1"
   ]
  },
  {
   "cell_type": "markdown",
   "metadata": {},
   "source": [
    "<h4><font color='Gray'>2. Reusing the variable without setting the correct value form</font></h4>"
   ]
  },
  {
   "cell_type": "code",
   "execution_count": 5,
   "metadata": {},
   "outputs": [
    {
     "name": "stdout",
     "output_type": "stream",
     "text": [
      "45 1\n"
     ]
    }
   ],
   "source": [
    "a = 1\n",
    "total = 0\n",
    "\n",
    "while a < 10:\n",
    "    total = total + a\n",
    "    a += 1\n",
    "    \n",
    "product = 1\n",
    "while a < 10:\n",
    "    product = product * a\n",
    "    a += 1\n",
    "    \n",
    "print(total, product)"
   ]
  },
  {
   "cell_type": "code",
   "execution_count": 6,
   "metadata": {},
   "outputs": [
    {
     "name": "stdout",
     "output_type": "stream",
     "text": [
      "45 362880\n"
     ]
    }
   ],
   "source": [
    "a = 1\n",
    "total = 0\n",
    "\n",
    "while a < 10:\n",
    "    total = total + a\n",
    "    a += 1\n",
    "\n",
    "a = 1\n",
    "product = 1\n",
    "while a < 10:\n",
    "    product = product * a\n",
    "    a += 1\n",
    "    \n",
    "print(total, product)"
   ]
  },
  {
   "cell_type": "markdown",
   "metadata": {},
   "source": [
    "<h4><font color='Gray'>3. Entering infinite loop</font></h4>\n",
    "\n",
    "> Infinite loop that keeps executing and never stops"
   ]
  },
  {
   "cell_type": "code",
   "execution_count": 7,
   "metadata": {},
   "outputs": [
    {
     "ename": "KeyboardInterrupt",
     "evalue": "",
     "output_type": "error",
     "traceback": [
      "\u001b[1;31m---------------------------------------------------------------------------\u001b[0m",
      "\u001b[1;31mKeyboardInterrupt\u001b[0m                         Traceback (most recent call last)",
      "\u001b[1;32m<ipython-input-7-085d5fd8e50d>\u001b[0m in \u001b[0;36m<module>\u001b[1;34m\u001b[0m\n\u001b[0;32m      1\u001b[0m \u001b[0mx\u001b[0m \u001b[1;33m=\u001b[0m \u001b[1;36m0\u001b[0m\u001b[1;33m\u001b[0m\u001b[1;33m\u001b[0m\u001b[0m\n\u001b[0;32m      2\u001b[0m \u001b[1;32mwhile\u001b[0m \u001b[0mx\u001b[0m \u001b[1;33m%\u001b[0m \u001b[1;36m2\u001b[0m \u001b[1;33m==\u001b[0m \u001b[1;36m0\u001b[0m\u001b[1;33m:\u001b[0m\u001b[1;33m\u001b[0m\u001b[1;33m\u001b[0m\u001b[0m\n\u001b[1;32m----> 3\u001b[1;33m     \u001b[0mx\u001b[0m \u001b[1;33m=\u001b[0m \u001b[0mx\u001b[0m \u001b[1;33m/\u001b[0m \u001b[1;36m2\u001b[0m \u001b[1;31m# CTRL+C\u001b[0m\u001b[1;33m\u001b[0m\u001b[1;33m\u001b[0m\u001b[0m\n\u001b[0m",
      "\u001b[1;31mKeyboardInterrupt\u001b[0m: "
     ]
    }
   ],
   "source": [
    "x = 0\n",
    "while x % 2 == 0:\n",
    "    x = x / 2 # Press CTRL+C due to infinite loop"
   ]
  },
  {
   "cell_type": "code",
   "execution_count": 8,
   "metadata": {},
   "outputs": [],
   "source": [
    "x = 0\n",
    "while x != 0 and x % 2 == 0:\n",
    "    x = x / 2"
   ]
  },
  {
   "cell_type": "code",
   "execution_count": 9,
   "metadata": {},
   "outputs": [],
   "source": [
    "x = 0\n",
    "if x != 0:\n",
    "    while x % 2 == 0:\n",
    "        x = x / 2"
   ]
  },
  {
   "cell_type": "markdown",
   "metadata": {},
   "source": [
    "<h4><font color='Red'>B. for</font></h4>\n",
    "\n",
    "> Iterates over a sequence of values"
   ]
  },
  {
   "cell_type": "code",
   "execution_count": 10,
   "metadata": {},
   "outputs": [
    {
     "name": "stdout",
     "output_type": "stream",
     "text": [
      "0\n",
      "1\n",
      "2\n",
      "3\n",
      "4\n"
     ]
    }
   ],
   "source": [
    "for x in range(5):\n",
    "    print(x)"
   ]
  },
  {
   "cell_type": "code",
   "execution_count": 11,
   "metadata": {},
   "outputs": [
    {
     "name": "stdout",
     "output_type": "stream",
     "text": [
      "Brand: BMW\n",
      "Brand: Audi\n",
      "Brand: Honda\n",
      "Brand: Toyota\n",
      "Brand: Mercedes\n"
     ]
    }
   ],
   "source": [
    "brands = ['BMW','Audi','Honda','Toyota','Mercedes']\n",
    "\n",
    "for brand in brands:\n",
    "    print('Brand: ' + brand)"
   ]
  },
  {
   "cell_type": "code",
   "execution_count": 12,
   "metadata": {},
   "outputs": [
    {
     "name": "stdout",
     "output_type": "stream",
     "text": [
      "Eslem is 22 years old\n",
      "Furkan is 18 years old\n",
      "Burak is 11 years old\n"
     ]
    }
   ],
   "source": [
    "siblings = ['Eslem','Furkan','Burak']\n",
    "years = ['1999','2003','2010']\n",
    "\n",
    "for sibling, year in zip(siblings,years):\n",
    "    print(sibling + ' ' + 'is {} years old'.format(2021-int(year)))"
   ]
  },
  {
   "cell_type": "code",
   "execution_count": 13,
   "metadata": {},
   "outputs": [
    {
     "name": "stdout",
     "output_type": "stream",
     "text": [
      "Total: 101\n",
      "Average: 20.2\n"
     ]
    }
   ],
   "source": [
    "numbers = [13,17,19,23,29]\n",
    "\n",
    "total = 0\n",
    "lenght = 0\n",
    "for number in numbers: \n",
    "    total = total + number\n",
    "    lenght = lenght + 1\n",
    "\n",
    "print('Total: ' + str(total))\n",
    "print('Average: ' + str(total/lenght))"
   ]
  },
  {
   "cell_type": "code",
   "execution_count": 14,
   "metadata": {},
   "outputs": [
    {
     "name": "stdout",
     "output_type": "stream",
     "text": [
      "[0|0] [0|1] [0|2] [0|3] [0|4] [0|5] [0|6] \n",
      "[1|1] [1|2] [1|3] [1|4] [1|5] [1|6] \n",
      "[2|2] [2|3] [2|4] [2|5] [2|6] \n",
      "[3|3] [3|4] [3|5] [3|6] \n",
      "[4|4] [4|5] [4|6] \n",
      "[5|5] [5|6] \n",
      "[6|6] \n"
     ]
    }
   ],
   "source": [
    "for i in range(7):\n",
    "    for j in range(i,7):\n",
    "        print('['+str(i)+'|'+str(j)+']',end=' ')\n",
    "    print()"
   ]
  },
  {
   "cell_type": "markdown",
   "metadata": {},
   "source": [
    "<h4><font color='Gray'>Common Pitfalls in For Loops</font></h4>"
   ]
  },
  {
   "cell_type": "markdown",
   "metadata": {},
   "source": [
    "<h4><font color='Gray'>1. Iterating over a single element</font></h4>"
   ]
  },
  {
   "cell_type": "code",
   "execution_count": 15,
   "metadata": {},
   "outputs": [
    {
     "ename": "TypeError",
     "evalue": "'int' object is not iterable",
     "output_type": "error",
     "traceback": [
      "\u001b[1;31m---------------------------------------------------------------------------\u001b[0m",
      "\u001b[1;31mTypeError\u001b[0m                                 Traceback (most recent call last)",
      "\u001b[1;32m<ipython-input-15-5bd57d738d2f>\u001b[0m in \u001b[0;36m<module>\u001b[1;34m\u001b[0m\n\u001b[1;32m----> 1\u001b[1;33m \u001b[1;32mfor\u001b[0m \u001b[0mi\u001b[0m \u001b[1;32min\u001b[0m \u001b[1;36m25\u001b[0m\u001b[1;33m:\u001b[0m\u001b[1;33m\u001b[0m\u001b[1;33m\u001b[0m\u001b[0m\n\u001b[0m\u001b[0;32m      2\u001b[0m     \u001b[0mprint\u001b[0m\u001b[1;33m(\u001b[0m\u001b[0mi\u001b[0m\u001b[1;33m)\u001b[0m\u001b[1;33m\u001b[0m\u001b[1;33m\u001b[0m\u001b[0m\n",
      "\u001b[1;31mTypeError\u001b[0m: 'int' object is not iterable"
     ]
    }
   ],
   "source": [
    "for i in 25:\n",
    "    print(i)"
   ]
  },
  {
   "cell_type": "code",
   "execution_count": 16,
   "metadata": {},
   "outputs": [
    {
     "name": "stdout",
     "output_type": "stream",
     "text": [
      "0 1 2 3 4 5 6 7 8 9 10 11 12 13 14 15 16 17 18 19 20 21 22 23 24 "
     ]
    }
   ],
   "source": [
    "for i in range(0,25):\n",
    "    print(i , end=' ')"
   ]
  },
  {
   "cell_type": "code",
   "execution_count": 17,
   "metadata": {},
   "outputs": [
    {
     "name": "stdout",
     "output_type": "stream",
     "text": [
      "G\n",
      "e\n",
      "n\n",
      "m\n",
      "e\n",
      "t\n"
     ]
    }
   ],
   "source": [
    "for i in 'Genmet':\n",
    "    print(i)"
   ]
  },
  {
   "cell_type": "markdown",
   "metadata": {},
   "source": [
    "<h4><font color='Gray'>range()</font></h4>\n",
    "\n",
    "> - A range of numbers will start with the value 0 by default.\n",
    "> - The list of numbers generated will be one less than the given value."
   ]
  },
  {
   "cell_type": "code",
   "execution_count": 18,
   "metadata": {},
   "outputs": [
    {
     "ename": "TypeError",
     "evalue": "range expected 1 arguments, got 0",
     "output_type": "error",
     "traceback": [
      "\u001b[1;31m---------------------------------------------------------------------------\u001b[0m",
      "\u001b[1;31mTypeError\u001b[0m                                 Traceback (most recent call last)",
      "\u001b[1;32m<ipython-input-18-5bcbe005bf48>\u001b[0m in \u001b[0;36m<module>\u001b[1;34m\u001b[0m\n\u001b[1;32m----> 1\u001b[1;33m \u001b[0mrange\u001b[0m\u001b[1;33m(\u001b[0m\u001b[1;33m)\u001b[0m\u001b[1;33m\u001b[0m\u001b[1;33m\u001b[0m\u001b[0m\n\u001b[0m",
      "\u001b[1;31mTypeError\u001b[0m: range expected 1 arguments, got 0"
     ]
    }
   ],
   "source": [
    "range()"
   ]
  },
  {
   "cell_type": "code",
   "execution_count": 19,
   "metadata": {},
   "outputs": [
    {
     "data": {
      "text/plain": [
       "[0, 1, 2, 3, 4]"
      ]
     },
     "execution_count": 19,
     "metadata": {},
     "output_type": "execute_result"
    }
   ],
   "source": [
    "list(range(5))"
   ]
  },
  {
   "cell_type": "code",
   "execution_count": 20,
   "metadata": {},
   "outputs": [
    {
     "data": {
      "text/plain": [
       "[3, 4, 5, 6, 7, 8, 9, 10, 11, 12, 13, 14]"
      ]
     },
     "execution_count": 20,
     "metadata": {},
     "output_type": "execute_result"
    }
   ],
   "source": [
    "list(range(3,15))"
   ]
  },
  {
   "cell_type": "code",
   "execution_count": 21,
   "metadata": {},
   "outputs": [
    {
     "data": {
      "text/plain": [
       "[3, 6, 9, 12]"
      ]
     },
     "execution_count": 21,
     "metadata": {},
     "output_type": "execute_result"
    }
   ],
   "source": [
    "list(range(3,15,3))"
   ]
  },
  {
   "cell_type": "markdown",
   "metadata": {},
   "source": [
    "<h4><font color='Blue'>Examples</font></h4>"
   ]
  },
  {
   "cell_type": "code",
   "execution_count": 22,
   "metadata": {},
   "outputs": [
    {
     "name": "stdin",
     "output_type": "stream",
     "text": [
      "Try again (3):  214124\n",
      "Try again (2):  232144\n",
      "Try again (1):  242425\n"
     ]
    },
    {
     "name": "stdout",
     "output_type": "stream",
     "text": [
      "You tried a lot!\n"
     ]
    }
   ],
   "source": [
    "def password():\n",
    "    password = '123456'\n",
    "    counter = 3\n",
    "    trying = ''\n",
    "    \n",
    "    while password != trying:\n",
    "        trying = input('Try again ({}): '.format(counter))\n",
    "        counter -= 1\n",
    "        if password == trying:\n",
    "            print('Success')\n",
    "            break\n",
    "        if counter == 0:\n",
    "            print('You tried a lot!')\n",
    "            break\n",
    "    \n",
    "password()"
   ]
  },
  {
   "cell_type": "code",
   "execution_count": 23,
   "metadata": {},
   "outputs": [
    {
     "name": "stdout",
     "output_type": "stream",
     "text": [
      "2\n"
     ]
    }
   ],
   "source": [
    "def GCD(a,b):\n",
    "    n = list()\n",
    "    result = 0\n",
    "    if a < b:\n",
    "        value = a\n",
    "    else:\n",
    "        value = b\n",
    "        \n",
    "    for i in range(1,value+1):\n",
    "        if a % i == 0 and b % i == 0:\n",
    "            if i > result:\n",
    "                result = i\n",
    "                \n",
    "    return result\n",
    "\n",
    "print(GCD(2323242,3232))"
   ]
  },
  {
   "cell_type": "code",
   "execution_count": 24,
   "metadata": {},
   "outputs": [
    {
     "name": "stdout",
     "output_type": "stream",
     "text": [
      "2\n"
     ]
    }
   ],
   "source": [
    "def EuclidGCD(a,b):\n",
    "    if b == 0:\n",
    "        return a\n",
    "    na = a % b\n",
    "    return EuclidGCD(b,na)\n",
    "\n",
    "print(EuclidGCD(2323242,3232))"
   ]
  },
  {
   "cell_type": "code",
   "execution_count": 25,
   "metadata": {},
   "outputs": [
    {
     "name": "stdout",
     "output_type": "stream",
     "text": [
      "5\n",
      "0.05185818672180176\n",
      "\n",
      "5\n",
      "0.0\n"
     ]
    }
   ],
   "source": [
    "import time\n",
    "\n",
    "tic = time.time()\n",
    "print(GCD(1235423523634654645,325235))\n",
    "toc = time.time()\n",
    "print(toc-tic)\n",
    "\n",
    "print()\n",
    "\n",
    "tic = time.time()\n",
    "print(EuclidGCD(1235423523634654645,325235))\n",
    "toc = time.time()\n",
    "print(toc-tic)"
   ]
  },
  {
   "cell_type": "markdown",
   "metadata": {},
   "source": [
    "<h4><font color='Blue'>Lecture Sources</font></h4>"
   ]
  },
  {
   "cell_type": "markdown",
   "metadata": {},
   "source": [
    "> - GITHUB: https://github.com/eslemkarakas"
   ]
  },
  {
   "cell_type": "markdown",
   "metadata": {},
   "source": [
    "<h4><font color='Blue'>Contact Information</font></h4>"
   ]
  },
  {
   "cell_type": "markdown",
   "metadata": {},
   "source": [
    "> - G-MAIL: eslem.karakas.tr@gmail.com\n",
    "> - LINKEDIN: https://www.linkedin.com/in/eslemkarakas/"
   ]
  }
 ],
 "metadata": {
  "kernelspec": {
   "display_name": "Python 3",
   "language": "python",
   "name": "python3"
  },
  "language_info": {
   "codemirror_mode": {
    "name": "ipython",
    "version": 3
   },
   "file_extension": ".py",
   "mimetype": "text/x-python",
   "name": "python",
   "nbconvert_exporter": "python",
   "pygments_lexer": "ipython3",
   "version": "3.7.6"
  }
 },
 "nbformat": 4,
 "nbformat_minor": 4
}
